{
 "cells": [
  {
   "cell_type": "markdown",
   "metadata": {},
   "source": [
    "# Using AI for Sentiment Analysis"
   ]
  },
  {
   "cell_type": "code",
   "execution_count": 1,
   "metadata": {
    "colab": {
     "base_uri": "https://localhost:8080/",
     "height": 34
    },
    "colab_type": "code",
    "id": "UX_T91_YMcD6",
    "outputId": "55a1f307-bc72-433d-e885-cb8573714437"
   },
   "outputs": [
    {
     "name": "stderr",
     "output_type": "stream",
     "text": [
      "Using TensorFlow backend.\n"
     ]
    },
    {
     "name": "stdout",
     "output_type": "stream",
     "text": [
      "Downloading data from https://s3.amazonaws.com/text-datasets/imdb.npz\n",
      "17465344/17464789 [==============================] - 3s 0us/step\n"
     ]
    }
   ],
   "source": [
    "from keras.datasets import imdb\n",
    "\n",
    "top_words = 10000\n",
    "((x_train, y_train), \n",
    " (x_test, y_test)) = imdb.load_data(num_words=top_words,\n",
    "                                    seed=21)"
   ]
  },
  {
   "cell_type": "code",
   "execution_count": 2,
   "metadata": {
    "colab": {
     "base_uri": "https://localhost:8080/",
     "height": 51
    },
    "colab_type": "code",
    "id": "X6Yolc6KMjgu",
    "outputId": "866e350d-e08b-468f-bb45-cef0aa323085"
   },
   "outputs": [
    {
     "name": "stdout",
     "output_type": "stream",
     "text": [
      "Training examples: 25000\n",
      "Test examples: 25000\n"
     ]
    }
   ],
   "source": [
    "print(\"Training examples: %i\" % len(x_train))\n",
    "print(\"Test examples: %i\" % len(x_test))"
   ]
  },
  {
   "cell_type": "code",
   "execution_count": 3,
   "metadata": {
    "colab": {
     "base_uri": "https://localhost:8080/",
     "height": 34
    },
    "colab_type": "code",
    "id": "hlJug4QzMsUv",
    "outputId": "a733be79-c6ac-4394-ba26-5ef256e436fd"
   },
   "outputs": [
    {
     "name": "stdout",
     "output_type": "stream",
     "text": [
      "(array([0, 1], dtype=int64), array([12500, 12500], dtype=int64))\n"
     ]
    }
   ],
   "source": [
    "import numpy as np\n",
    "print(np.unique(y_train, return_counts=True))"
   ]
  },
  {
   "cell_type": "code",
   "execution_count": 4,
   "metadata": {
    "colab": {},
    "colab_type": "code",
    "id": "Lu0LbdjGMz9B"
   },
   "outputs": [
    {
     "name": "stdout",
     "output_type": "stream",
     "text": [
      "Downloading data from https://s3.amazonaws.com/text-datasets/imdb_word_index.json\n",
      "1646592/1641221 [==============================] - 0s 0us/step\n"
     ]
    }
   ],
   "source": [
    "word_to_id = {w:i+3 for w,i in imdb.get_word_index().items()}\n",
    "id_to_word = {0:'<PAD>', 1:'<START>', 2:'<UNK>'}\n",
    "id_to_word.update({i+3:w for w,i in imdb.get_word_index().items()})\n",
    "\n",
    "def convert_to_text(sequence):\n",
    "    return ' '.join([id_to_word[s] for s in sequence if s>=3])"
   ]
  },
  {
   "cell_type": "code",
   "execution_count": 5,
   "metadata": {
    "colab": {
     "base_uri": "https://localhost:8080/",
     "height": 54
    },
    "colab_type": "code",
    "id": "gzIO8l0aM5fI",
    "outputId": "090f39aa-a64a-4608-82f2-272403d57f94"
   },
   "outputs": [
    {
     "name": "stdout",
     "output_type": "stream",
     "text": [
      "this movie was like a bad train wreck as horrible as it was you still had to continue to watch my boyfriend and i rented it and wasted two hours of our day now don't get me wrong the acting is good just the movie as a whole just both of us there wasn't anything positive or good about this scenario after this movie i had to go rent something else that was a little lighter jennifer is as usual a very dramatic actress her character seems manic and not all there hannah though over played she does a wonderful job playing out the situation she is in more than once i found myself yelling at the tv telling her to fight back or to get violent all in all very violent movie not for the faint of heart\n"
     ]
    }
   ],
   "source": [
    " print(convert_to_text(x_train[8]))"
   ]
  },
  {
   "cell_type": "code",
   "execution_count": 6,
   "metadata": {
    "colab": {},
    "colab_type": "code",
    "id": "gWk7m_SUNEvR"
   },
   "outputs": [],
   "source": [
    "from keras.preprocessing.sequence import pad_sequences\n",
    "\n",
    "max_pad = 200\n",
    "x_train = pad_sequences(x_train, \n",
    "                        maxlen=max_pad)\n",
    "\n",
    "x_test = pad_sequences(x_test, \n",
    "                       maxlen=max_pad)"
   ]
  },
  {
   "cell_type": "code",
   "execution_count": 7,
   "metadata": {
    "colab": {
     "base_uri": "https://localhost:8080/",
     "height": 272
    },
    "colab_type": "code",
    "id": "eVw5xd-ehQBh",
    "outputId": "91f5fe58-353d-45d8-8778-273e0b14767a"
   },
   "outputs": [
    {
     "name": "stdout",
     "output_type": "stream",
     "text": [
      "[  88    4 3310  406 6762    2    4  427 2140 1656 4042    2   11   41\n",
      "    2  494   46 1954 4712  198   51   13  683 1193   10   10  198   66\n",
      "   89    4  114  495 7303  197    4 1168 1656   61  492 1131    7 5388\n",
      "   21   13  839   90  145    8  113   34 8253   27    2   19   15    7\n",
      "    6 8870 3310   88 8222   92    2    8 5388    5 1037    2    2 2864\n",
      "    2  449  168    6  404    2  112  207 1075    4  375 5986    7    4\n",
      "  406 1522   13  124  903   97   90    2   21    2   48   32  148 3310\n",
      "    2    2   93   61  492    2  305    7    2    4  893 8016   13  401\n",
      " 5679   83   27  117 2687 5419   29  941 1889   90   21  808   14   46\n",
      "  793    4 1526   84   37   28   34   96    7   49    2  114 1009 1054\n",
      "   56   23   61 2301 1111    9    4  255    8  937   61  492   16 3953\n",
      "  159   29 1131   13 2134 3872   81   41   32   14  832   56    8   35\n",
      "  576 1301    5 5348 3134  255  335  170    8    2   72 1168 1656   57\n",
      "   29    9    2    2 3310  415   11 5215   89 1047   10   10   81   24\n",
      "  106   14   20  126]\n"
     ]
    }
   ],
   "source": [
    "print(x_train[0])"
   ]
  },
  {
   "cell_type": "code",
   "execution_count": 8,
   "metadata": {
    "colab": {
     "base_uri": "https://localhost:8080/",
     "height": 394
    },
    "colab_type": "code",
    "id": "kVYCBmKuNNG8",
    "outputId": "a2099cb1-bc98-4f0b-8256-6514846bcff3"
   },
   "outputs": [
    {
     "name": "stdout",
     "output_type": "stream",
     "text": [
      "_________________________________________________________________\n",
      "Layer (type)                 Output Shape              Param #   \n",
      "=================================================================\n",
      "embedding_1 (Embedding)      (None, 200, 32)           320000    \n",
      "_________________________________________________________________\n",
      "bidirectional_1 (Bidirection (None, 200, 128)          49664     \n",
      "_________________________________________________________________\n",
      "global_max_pooling1d_1 (Glob (None, 128)               0         \n",
      "_________________________________________________________________\n",
      "dense_1 (Dense)              (None, 16)                2064      \n",
      "_________________________________________________________________\n",
      "dense_2 (Dense)              (None, 1)                 17        \n",
      "=================================================================\n",
      "Total params: 371,745\n",
      "Trainable params: 371,745\n",
      "Non-trainable params: 0\n",
      "_________________________________________________________________\n",
      "None\n"
     ]
    }
   ],
   "source": [
    "from keras.models import Sequential \n",
    "from keras.layers import Bidirectional, Dense, Dropout \n",
    "from keras.layers import GlobalMaxPool1D, LSTM\n",
    "from keras.layers.embeddings import Embedding \n",
    "\n",
    "embedding_vector_length = 32 \n",
    "model = Sequential() \n",
    "model.add(Embedding(top_words, \n",
    "                    embedding_vector_length, \n",
    "                    input_length=max_pad)) \n",
    "\n",
    "model.add(Bidirectional(LSTM(64, return_sequences=True)))\n",
    "model.add(GlobalMaxPool1D())\n",
    "model.add(Dense(16, activation=\"relu\"))\n",
    "model.add(Dense(1, activation=\"sigmoid\"))\n",
    "\n",
    "model.compile(loss='binary_crossentropy',\n",
    "              optimizer='adam', \n",
    "              metrics=['accuracy']) \n",
    "\n",
    "print(model.summary())"
   ]
  },
  {
   "cell_type": "code",
   "execution_count": 9,
   "metadata": {
    "colab": {
     "base_uri": "https://localhost:8080/",
     "height": 258
    },
    "colab_type": "code",
    "id": "FinShkHdNNzF",
    "outputId": "2a74d551-4d05-4837-b9b7-fcad0c007284"
   },
   "outputs": [
    {
     "name": "stdout",
     "output_type": "stream",
     "text": [
      "Train on 25000 samples, validate on 25000 samples\n",
      "Epoch 1/3\n",
      "25000/25000 [==============================] - 149s 6ms/step - loss: 0.6507 - acc: 0.6224 - val_loss: 0.4681 - val_acc: 0.8165\n",
      "Epoch 2/3\n",
      "25000/25000 [==============================] - 163s 7ms/step - loss: 0.3488 - acc: 0.8576 - val_loss: 0.3009 - val_acc: 0.8721\n",
      "Epoch 3/3\n",
      "25000/25000 [==============================] - 166s 7ms/step - loss: 0.2191 - acc: 0.9160 - val_loss: 0.3021 - val_acc: 0.8747\n"
     ]
    }
   ],
   "source": [
    "history = model.fit(x_train, y_train, \n",
    "                    validation_data=(x_test, y_test), \n",
    "                    epochs=3, batch_size=256)"
   ]
  },
  {
   "cell_type": "code",
   "execution_count": 10,
   "metadata": {
    "colab": {
     "base_uri": "https://localhost:8080/",
     "height": 34
    },
    "colab_type": "code",
    "id": "YiqSasCNNWic",
    "outputId": "990c567e-ba15-4630-c2ba-e5ac0145d050"
   },
   "outputs": [
    {
     "name": "stdout",
     "output_type": "stream",
     "text": [
      "Test accuracy: 0.875\n"
     ]
    }
   ],
   "source": [
    "loss, metric = model.evaluate(x_test, y_test, verbose=0)\n",
    "print(\"Test accuracy: %0.3f\" % metric)"
   ]
  },
  {
   "cell_type": "code",
   "execution_count": null,
   "metadata": {},
   "outputs": [],
   "source": []
  }
 ],
 "metadata": {
  "accelerator": "GPU",
  "colab": {
   "collapsed_sections": [],
   "name": "DL4D_14_movie_sentiment.ipynb",
   "provenance": [],
   "version": "0.3.2"
  },
  "kernelspec": {
   "display_name": "Python 3",
   "language": "python",
   "name": "python3"
  },
  "language_info": {
   "codemirror_mode": {
    "name": "ipython",
    "version": 3
   },
   "file_extension": ".py",
   "mimetype": "text/x-python",
   "name": "python",
   "nbconvert_exporter": "python",
   "pygments_lexer": "ipython3",
   "version": "3.6.6"
  }
 },
 "nbformat": 4,
 "nbformat_minor": 1
}
