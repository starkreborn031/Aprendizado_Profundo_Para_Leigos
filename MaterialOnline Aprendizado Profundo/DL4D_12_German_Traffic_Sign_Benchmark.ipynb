{
  "nbformat": 4,
  "nbformat_minor": 0,
  "metadata": {
    "colab": {
      "name": "German_traffic_sign_benchmark.ipynb",
      "version": "0.3.2",
      "provenance": [],
      "collapsed_sections": []
    },
    "language_info": {
      "codemirror_mode": {
        "name": "ipython",
        "version": 3
      },
      "file_extension": ".py",
      "mimetype": "text/x-python",
      "name": "python",
      "nbconvert_exporter": "python",
      "pygments_lexer": "ipython3",
      "version": "3.6.8"
    },
    "kernelspec": {
      "display_name": "Python 3",
      "language": "python",
      "name": "python3"
    },
    "accelerator": "GPU"
  },
  "cells": [
    {
      "cell_type": "markdown",
      "metadata": {
        "id": "45jXfJUS4wE0",
        "colab_type": "text"
      },
      "source": [
        "# Distinguishing Traffic Signs"
      ]
    },
    {
      "cell_type": "markdown",
      "metadata": {
        "id": "BKKwtlIu4wE4",
        "colab_type": "text"
      },
      "source": [
        "## Preparing image data"
      ]
    },
    {
      "cell_type": "code",
      "metadata": {
        "colab_type": "code",
        "id": "570UTTOnZrie",
        "colab": {}
      },
      "source": [
        "import numpy as np\n",
        "import zipfile\n",
        "import pprint\n",
        "\n",
        "from skimage.transform import resize\n",
        "from skimage.io import imread\n",
        "\n",
        "import matplotlib.pyplot as plt\n",
        "%matplotlib inline\n",
        "\n",
        "import warnings\n",
        "warnings.filterwarnings(\"ignore\")"
      ],
      "execution_count": 0,
      "outputs": []
    },
    {
      "cell_type": "code",
      "metadata": {
        "colab_type": "code",
        "id": "SQB_Z5rWboUK",
        "colab": {}
      },
      "source": [
        "from keras.models import Sequential\n",
        "from keras.optimizers import Adam\n",
        "from keras.preprocessing.image import ImageDataGenerator \n",
        "from keras.utils import to_categorical\n",
        "from keras.layers import Conv2D, MaxPooling2D\n",
        "from keras.layers import (Flatten, Dense, Dropout)"
      ],
      "execution_count": 0,
      "outputs": []
    },
    {
      "cell_type": "code",
      "metadata": {
        "colab_type": "code",
        "id": "_UNEK_X2ZP5P",
        "colab": {}
      },
      "source": [
        "import urllib.request\n",
        "import os.path\n",
        "if not os.path.exists(\"GTSRB_Final_Training_Images.zip\"):\n",
        "    url = (\"https://sid.erda.dk/public/archives/\"\n",
        "    + \"daaeac0d7ce1152aea9b61d9f1e19370/\"\n",
        "    + \"GTSRB_Final_Training_Images.zip\")\n",
        "    filename = \"./GTSRB_Final_Training_Images.zip\"\n",
        "    urllib.request.urlretrieve(url, filename)"
      ],
      "execution_count": 0,
      "outputs": []
    },
    {
      "cell_type": "code",
      "metadata": {
        "colab_type": "code",
        "id": "VUiHtNGJsBuT",
        "colab": {}
      },
      "source": [
        "IMG_SIZE = 32\n",
        "TEST_SIZE = 0.2"
      ],
      "execution_count": 0,
      "outputs": []
    },
    {
      "cell_type": "code",
      "metadata": {
        "colab_type": "code",
        "id": "pJJ8P5d2I1cF",
        "colab": {}
      },
      "source": [
        "X, Xt, y, yt = list(), list(), list(), list()\n",
        "\n",
        "archive = zipfile.ZipFile(\n",
        "          'GTSRB_Final_Training_Images.zip', 'r')\n",
        "file_paths = [file for file in archive.namelist() \n",
        "              if '.ppm' in file]\n",
        "\n",
        "for filename in file_paths:\n",
        "    img = imread(archive.open(filename))\n",
        "    img = resize(img, \n",
        "                 output_shape=(IMG_SIZE, IMG_SIZE),\n",
        "                 mode='reflect')\n",
        "    img_class = int(filename.split('/')[-2])\n",
        "    \n",
        "    if (hash(filename) % 1000) / 1000 > TEST_SIZE:\n",
        "        X.append(img)\n",
        "        y.append(img_class)\n",
        "    else:\n",
        "        Xt.append(img)\n",
        "        yt.append(img_class)\n",
        "\n",
        "archive.close()"
      ],
      "execution_count": 0,
      "outputs": []
    },
    {
      "cell_type": "code",
      "metadata": {
        "colab_type": "code",
        "id": "5KZsP3GIZ6AI",
        "colab": {
          "base_uri": "https://localhost:8080/",
          "height": 34
        },
        "outputId": "68b7b7e6-fbca-4faf-d56a-522b9bd1a4f5"
      },
      "source": [
        "test_ratio = len(Xt) / len(file_paths)\n",
        "print(\"Train size:{} test size:{} ({:0.3f})\".format(len(X), \n",
        "                len(Xt), \n",
        "                test_ratio))"
      ],
      "execution_count": 9,
      "outputs": [
        {
          "output_type": "stream",
          "text": [
            "Train size:31441 test size:7768 (0.198)\n"
          ],
          "name": "stdout"
        }
      ]
    },
    {
      "cell_type": "code",
      "metadata": {
        "colab_type": "code",
        "id": "AeVvZi61s87C",
        "colab": {
          "base_uri": "https://localhost:8080/",
          "height": 286
        },
        "outputId": "5df58412-0079-4032-955d-ba3bb4d8c507"
      },
      "source": [
        "classes, dist = np.unique(y+yt, return_counts=True)\n",
        "NUM_CLASSES = len(classes)\n",
        "print (\"No classes:{}\".format(NUM_CLASSES))\n",
        "\n",
        "plt.bar(classes, dist, align='center', alpha=0.5)\n",
        "plt.show()"
      ],
      "execution_count": 10,
      "outputs": [
        {
          "output_type": "stream",
          "text": [
            "No classes:43\n"
          ],
          "name": "stdout"
        },
        {
          "output_type": "display_data",
          "data": {
            "image/png": "[encoded data removed]",
            "text/plain": [
              "<Figure size 432x288 with 1 Axes>"
            ]
          },
          "metadata": {
            "tags": []
          }
        }
      ]
    },
    {
      "cell_type": "code",
      "metadata": {
        "colab_type": "code",
        "id": "z0ULObCbxO97",
        "colab": {}
      },
      "source": [
        "class_weight = {c:dist[c]/np.sum(dist) for c in classes}"
      ],
      "execution_count": 0,
      "outputs": []
    },
    {
      "cell_type": "markdown",
      "metadata": {
        "id": "zWYudzUH4wFi",
        "colab_type": "text"
      },
      "source": [
        "## Running a classification task"
      ]
    },
    {
      "cell_type": "code",
      "metadata": {
        "colab_type": "code",
        "id": "MW88y4HLbkpJ",
        "colab": {}
      },
      "source": [
        "batch_size = 256\n",
        "tgen=ImageDataGenerator(rescale=1./255,\n",
        "                        rotation_range=5,\n",
        "                        width_shift_range=0.10, \n",
        "                        height_shift_range=0.10)\n",
        "\n",
        "train_gen = tgen.flow(np.array(X), \n",
        "                      to_categorical(y), \n",
        "                      batch_size=batch_size)"
      ],
      "execution_count": 0,
      "outputs": []
    },
    {
      "cell_type": "code",
      "metadata": {
        "colab_type": "code",
        "id": "sSYl85NofHc7",
        "colab": {}
      },
      "source": [
        "vgen=ImageDataGenerator(rescale=1./255)\n",
        "\n",
        "val_gen = vgen.flow(np.array(Xt), \n",
        "                    to_categorical(yt), \n",
        "                    batch_size=batch_size)"
      ],
      "execution_count": 0,
      "outputs": []
    },
    {
      "cell_type": "code",
      "metadata": {
        "colab_type": "code",
        "id": "wP6BgtRib00-",
        "colab": {
          "base_uri": "https://localhost:8080/",
          "height": 139
        },
        "outputId": "39ab7180-68a5-41af-a373-92dc60e76576"
      },
      "source": [
        "def small_cnn():\n",
        "    model = Sequential()\n",
        "    model.add(Conv2D(32, (5, 5), padding='same',\n",
        "                     input_shape=(IMG_SIZE, IMG_SIZE, 3),\n",
        "                     activation='relu'))\n",
        "    model.add(Conv2D(64, (5, 5), activation='relu'))   \n",
        "    model.add(Flatten())\n",
        "    model.add(Dense(768, activation='relu'))\n",
        "    model.add(Dropout(0.4))\n",
        "    model.add(Dense(NUM_CLASSES, activation='softmax'))\n",
        "    return model\n",
        "\n",
        "\n",
        "model = small_cnn()\n",
        "model.compile(loss='categorical_crossentropy', \n",
        "              optimizer=Adam(),\n",
        "              metrics=['accuracy'])"
      ],
      "execution_count": 14,
      "outputs": [
        {
          "output_type": "stream",
          "text": [
            "WARNING:tensorflow:From /usr/local/lib/python3.6/dist-packages/tensorflow/python/framework/op_def_library.py:263: colocate_with (from tensorflow.python.framework.ops) is deprecated and will be removed in a future version.\n",
            "Instructions for updating:\n",
            "Colocations handled automatically by placer.\n",
            "WARNING:tensorflow:From /usr/local/lib/python3.6/dist-packages/keras/backend/tensorflow_backend.py:3445: calling dropout (from tensorflow.python.ops.nn_ops) with keep_prob is deprecated and will be removed in a future version.\n",
            "Instructions for updating:\n",
            "Please use `rate` instead of `keep_prob`. Rate should be set to `rate = 1 - keep_prob`.\n"
          ],
          "name": "stdout"
        }
      ]
    },
    {
      "cell_type": "code",
      "metadata": {
        "colab_type": "code",
        "id": "vifoZNqpcU1z",
        "colab": {
          "base_uri": "https://localhost:8080/",
          "height": 3488
        },
        "outputId": "c920177c-f46d-49e3-9c75-240749bcf118"
      },
      "source": [
        "history = model.fit_generator(train_gen,\n",
        "                              steps_per_epoch=len(X) // batch_size,\n",
        "                              validation_data=val_gen,\n",
        "                              validation_steps=len(Xt) // batch_size,\n",
        "                              class_weight=class_weight,\n",
        "                              epochs=100, \n",
        "                              verbose=2)"
      ],
      "execution_count": 15,
      "outputs": [
        {
          "output_type": "stream",
          "text": [
            "WARNING:tensorflow:From /usr/local/lib/python3.6/dist-packages/tensorflow/python/ops/math_ops.py:3066: to_int32 (from tensorflow.python.ops.math_ops) is deprecated and will be removed in a future version.\n",
            "Instructions for updating:\n",
            "Use tf.cast instead.\n",
            "Epoch 1/100\n",
            " - 20s - loss: 0.1125 - acc: 0.0670 - val_loss: 3.4757 - val_acc: 0.1281\n",
            "Epoch 2/100\n",
            " - 13s - loss: 0.1016 - acc: 0.1319 - val_loss: 3.0283 - val_acc: 0.2130\n",
            "Epoch 3/100\n",
            " - 14s - loss: 0.0896 - acc: 0.2102 - val_loss: 2.4584 - val_acc: 0.3496\n",
            "Epoch 4/100\n",
            " - 13s - loss: 0.0744 - acc: 0.3131 - val_loss: 1.7197 - val_acc: 0.5039\n",
            "Epoch 5/100\n",
            " - 14s - loss: 0.0597 - acc: 0.4097 - val_loss: 1.3923 - val_acc: 0.5759\n",
            "Epoch 6/100\n",
            " - 14s - loss: 0.0513 - acc: 0.4743 - val_loss: 1.1201 - val_acc: 0.6500\n",
            "Epoch 7/100\n",
            " - 15s - loss: 0.0444 - acc: 0.5303 - val_loss: 0.9611 - val_acc: 0.7081\n",
            "Epoch 8/100\n",
            " - 14s - loss: 0.0396 - acc: 0.5747 - val_loss: 0.8034 - val_acc: 0.7617\n",
            "Epoch 9/100\n",
            " - 14s - loss: 0.0349 - acc: 0.6166 - val_loss: 0.6925 - val_acc: 0.7853\n",
            "Epoch 10/100\n",
            " - 13s - loss: 0.0315 - acc: 0.6506 - val_loss: 0.6172 - val_acc: 0.8110\n",
            "Epoch 11/100\n",
            " - 14s - loss: 0.0284 - acc: 0.6816 - val_loss: 0.5677 - val_acc: 0.8263\n",
            "Epoch 12/100\n",
            " - 14s - loss: 0.0263 - acc: 0.7036 - val_loss: 0.4758 - val_acc: 0.8521\n",
            "Epoch 13/100\n",
            " - 15s - loss: 0.0237 - acc: 0.7297 - val_loss: 0.4352 - val_acc: 0.8679\n",
            "Epoch 14/100\n",
            " - 14s - loss: 0.0220 - acc: 0.7509 - val_loss: 0.3546 - val_acc: 0.9007\n",
            "Epoch 15/100\n",
            " - 13s - loss: 0.0206 - acc: 0.7644 - val_loss: 0.3582 - val_acc: 0.9006\n",
            "Epoch 16/100\n",
            " - 13s - loss: 0.0192 - acc: 0.7812 - val_loss: 0.3446 - val_acc: 0.9023\n",
            "Epoch 17/100\n",
            " - 13s - loss: 0.0178 - acc: 0.7944 - val_loss: 0.2741 - val_acc: 0.9237\n",
            "Epoch 18/100\n",
            " - 14s - loss: 0.0169 - acc: 0.8037 - val_loss: 0.2621 - val_acc: 0.9260\n",
            "Epoch 19/100\n",
            " - 14s - loss: 0.0163 - acc: 0.8108 - val_loss: 0.2490 - val_acc: 0.9301\n",
            "Epoch 20/100\n",
            " - 14s - loss: 0.0150 - acc: 0.8248 - val_loss: 0.2354 - val_acc: 0.9345\n",
            "Epoch 21/100\n",
            " - 13s - loss: 0.0144 - acc: 0.8263 - val_loss: 0.2182 - val_acc: 0.9374\n",
            "Epoch 22/100\n",
            " - 15s - loss: 0.0139 - acc: 0.8360 - val_loss: 0.2140 - val_acc: 0.9408\n",
            "Epoch 23/100\n",
            " - 14s - loss: 0.0128 - acc: 0.8459 - val_loss: 0.1941 - val_acc: 0.9433\n",
            "Epoch 24/100\n",
            " - 14s - loss: 0.0125 - acc: 0.8500 - val_loss: 0.1834 - val_acc: 0.9494\n",
            "Epoch 25/100\n",
            " - 14s - loss: 0.0119 - acc: 0.8555 - val_loss: 0.1799 - val_acc: 0.9521\n",
            "Epoch 26/100\n",
            " - 14s - loss: 0.0115 - acc: 0.8608 - val_loss: 0.1750 - val_acc: 0.9511\n",
            "Epoch 27/100\n",
            " - 13s - loss: 0.0114 - acc: 0.8644 - val_loss: 0.1791 - val_acc: 0.9456\n",
            "Epoch 28/100\n",
            " - 13s - loss: 0.0111 - acc: 0.8655 - val_loss: 0.1514 - val_acc: 0.9538\n",
            "Epoch 29/100\n",
            " - 13s - loss: 0.0105 - acc: 0.8716 - val_loss: 0.1612 - val_acc: 0.9531\n",
            "Epoch 30/100\n",
            " - 15s - loss: 0.0105 - acc: 0.8734 - val_loss: 0.1310 - val_acc: 0.9618\n",
            "Epoch 31/100\n",
            " - 14s - loss: 0.0101 - acc: 0.8776 - val_loss: 0.1324 - val_acc: 0.9601\n",
            "Epoch 32/100\n",
            " - 13s - loss: 0.0096 - acc: 0.8810 - val_loss: 0.1289 - val_acc: 0.9639\n",
            "Epoch 33/100\n",
            " - 13s - loss: 0.0092 - acc: 0.8871 - val_loss: 0.1142 - val_acc: 0.9667\n",
            "Epoch 34/100\n",
            " - 13s - loss: 0.0089 - acc: 0.8901 - val_loss: 0.1079 - val_acc: 0.9706\n",
            "Epoch 35/100\n",
            " - 13s - loss: 0.0087 - acc: 0.8921 - val_loss: 0.1159 - val_acc: 0.9683\n",
            "Epoch 36/100\n",
            " - 14s - loss: 0.0087 - acc: 0.8921 - val_loss: 0.1179 - val_acc: 0.9643\n",
            "Epoch 37/100\n",
            " - 14s - loss: 0.0088 - acc: 0.8922 - val_loss: 0.1023 - val_acc: 0.9723\n",
            "Epoch 38/100\n",
            " - 13s - loss: 0.0085 - acc: 0.8930 - val_loss: 0.0995 - val_acc: 0.9712\n",
            "Epoch 39/100\n",
            " - 13s - loss: 0.0082 - acc: 0.8969 - val_loss: 0.1056 - val_acc: 0.9711\n",
            "Epoch 40/100\n",
            " - 13s - loss: 0.0082 - acc: 0.9024 - val_loss: 0.1051 - val_acc: 0.9703\n",
            "Epoch 41/100\n",
            " - 13s - loss: 0.0076 - acc: 0.9053 - val_loss: 0.0921 - val_acc: 0.9718\n",
            "Epoch 42/100\n",
            " - 14s - loss: 0.0077 - acc: 0.9041 - val_loss: 0.0929 - val_acc: 0.9715\n",
            "Epoch 43/100\n",
            " - 13s - loss: 0.0073 - acc: 0.9074 - val_loss: 0.0865 - val_acc: 0.9756\n",
            "Epoch 44/100\n",
            " - 13s - loss: 0.0073 - acc: 0.9095 - val_loss: 0.0792 - val_acc: 0.9806\n",
            "Epoch 45/100\n",
            " - 15s - loss: 0.0070 - acc: 0.9093 - val_loss: 0.0778 - val_acc: 0.9775\n",
            "Epoch 46/100\n",
            " - 13s - loss: 0.0068 - acc: 0.9129 - val_loss: 0.0961 - val_acc: 0.9766\n",
            "Epoch 47/100\n",
            " - 13s - loss: 0.0068 - acc: 0.9136 - val_loss: 0.0802 - val_acc: 0.9742\n",
            "Epoch 48/100\n",
            " - 15s - loss: 0.0065 - acc: 0.9171 - val_loss: 0.1001 - val_acc: 0.9710\n",
            "Epoch 49/100\n",
            " - 13s - loss: 0.0067 - acc: 0.9164 - val_loss: 0.0715 - val_acc: 0.9786\n",
            "Epoch 50/100\n",
            " - 13s - loss: 0.0065 - acc: 0.9168 - val_loss: 0.0851 - val_acc: 0.9763\n",
            "Epoch 51/100\n",
            " - 13s - loss: 0.0065 - acc: 0.9159 - val_loss: 0.0820 - val_acc: 0.9776\n",
            "Epoch 52/100\n",
            " - 14s - loss: 0.0067 - acc: 0.9167 - val_loss: 0.0802 - val_acc: 0.9779\n",
            "Epoch 53/100\n",
            " - 13s - loss: 0.0063 - acc: 0.9188 - val_loss: 0.0833 - val_acc: 0.9784\n",
            "Epoch 54/100\n",
            " - 15s - loss: 0.0064 - acc: 0.9201 - val_loss: 0.0657 - val_acc: 0.9827\n",
            "Epoch 55/100\n",
            " - 13s - loss: 0.0059 - acc: 0.9230 - val_loss: 0.0754 - val_acc: 0.9808\n",
            "Epoch 56/100\n",
            " - 13s - loss: 0.0057 - acc: 0.9270 - val_loss: 0.0544 - val_acc: 0.9847\n",
            "Epoch 57/100\n",
            " - 13s - loss: 0.0059 - acc: 0.9238 - val_loss: 0.0711 - val_acc: 0.9808\n",
            "Epoch 58/100\n",
            " - 14s - loss: 0.0058 - acc: 0.9252 - val_loss: 0.0724 - val_acc: 0.9780\n",
            "Epoch 59/100\n",
            " - 13s - loss: 0.0056 - acc: 0.9274 - val_loss: 0.0670 - val_acc: 0.9832\n",
            "Epoch 60/100\n",
            " - 15s - loss: 0.0057 - acc: 0.9273 - val_loss: 0.0615 - val_acc: 0.9835\n",
            "Epoch 61/100\n",
            " - 13s - loss: 0.0053 - acc: 0.9305 - val_loss: 0.0551 - val_acc: 0.9858\n",
            "Epoch 62/100\n",
            " - 13s - loss: 0.0052 - acc: 0.9327 - val_loss: 0.0613 - val_acc: 0.9835\n",
            "Epoch 63/100\n",
            " - 13s - loss: 0.0052 - acc: 0.9320 - val_loss: 0.0573 - val_acc: 0.9844\n",
            "Epoch 64/100\n",
            " - 13s - loss: 0.0050 - acc: 0.9341 - val_loss: 0.0647 - val_acc: 0.9816\n",
            "Epoch 65/100\n",
            " - 13s - loss: 0.0049 - acc: 0.9357 - val_loss: 0.0536 - val_acc: 0.9856\n",
            "Epoch 66/100\n",
            " - 15s - loss: 0.0050 - acc: 0.9347 - val_loss: 0.0527 - val_acc: 0.9874\n",
            "Epoch 67/100\n",
            " - 14s - loss: 0.0048 - acc: 0.9368 - val_loss: 0.0510 - val_acc: 0.9867\n",
            "Epoch 68/100\n",
            " - 15s - loss: 0.0047 - acc: 0.9373 - val_loss: 0.0526 - val_acc: 0.9868\n",
            "Epoch 69/100\n",
            " - 13s - loss: 0.0048 - acc: 0.9371 - val_loss: 0.0566 - val_acc: 0.9847\n",
            "Epoch 70/100\n",
            " - 13s - loss: 0.0048 - acc: 0.9389 - val_loss: 0.0430 - val_acc: 0.9870\n",
            "Epoch 71/100\n",
            " - 14s - loss: 0.0048 - acc: 0.9380 - val_loss: 0.0523 - val_acc: 0.9870\n",
            "Epoch 72/100\n",
            " - 14s - loss: 0.0047 - acc: 0.9395 - val_loss: 0.0511 - val_acc: 0.9864\n",
            "Epoch 73/100\n",
            " - 14s - loss: 0.0044 - acc: 0.9401 - val_loss: 0.0519 - val_acc: 0.9863\n",
            "Epoch 74/100\n",
            " - 14s - loss: 0.0044 - acc: 0.9432 - val_loss: 0.0516 - val_acc: 0.9854\n",
            "Epoch 75/100\n",
            " - 14s - loss: 0.0047 - acc: 0.9388 - val_loss: 0.0581 - val_acc: 0.9851\n",
            "Epoch 76/100\n",
            " - 14s - loss: 0.0045 - acc: 0.9417 - val_loss: 0.0511 - val_acc: 0.9864\n",
            "Epoch 77/100\n",
            " - 14s - loss: 0.0044 - acc: 0.9398 - val_loss: 0.0532 - val_acc: 0.9855\n",
            "Epoch 78/100\n",
            " - 14s - loss: 0.0044 - acc: 0.9408 - val_loss: 0.0436 - val_acc: 0.9867\n",
            "Epoch 79/100\n",
            " - 13s - loss: 0.0043 - acc: 0.9439 - val_loss: 0.0432 - val_acc: 0.9882\n",
            "Epoch 80/100\n",
            " - 13s - loss: 0.0040 - acc: 0.9462 - val_loss: 0.0480 - val_acc: 0.9864\n",
            "Epoch 81/100\n",
            " - 13s - loss: 0.0041 - acc: 0.9463 - val_loss: 0.0466 - val_acc: 0.9863\n",
            "Epoch 82/100\n",
            " - 13s - loss: 0.0043 - acc: 0.9443 - val_loss: 0.0447 - val_acc: 0.9895\n",
            "Epoch 83/100\n",
            " - 14s - loss: 0.0041 - acc: 0.9458 - val_loss: 0.0417 - val_acc: 0.9890\n",
            "Epoch 84/100\n",
            " - 14s - loss: 0.0041 - acc: 0.9463 - val_loss: 0.0459 - val_acc: 0.9875\n",
            "Epoch 85/100\n",
            " - 13s - loss: 0.0039 - acc: 0.9482 - val_loss: 0.0325 - val_acc: 0.9921\n",
            "Epoch 86/100\n",
            " - 13s - loss: 0.0043 - acc: 0.9450 - val_loss: 0.0485 - val_acc: 0.9867\n",
            "Epoch 87/100\n",
            " - 14s - loss: 0.0038 - acc: 0.9499 - val_loss: 0.0365 - val_acc: 0.9900\n",
            "Epoch 88/100\n",
            " - 13s - loss: 0.0038 - acc: 0.9496 - val_loss: 0.0421 - val_acc: 0.9888\n",
            "Epoch 89/100\n",
            " - 14s - loss: 0.0038 - acc: 0.9495 - val_loss: 0.0457 - val_acc: 0.9888\n",
            "Epoch 90/100\n",
            " - 15s - loss: 0.0038 - acc: 0.9474 - val_loss: 0.0377 - val_acc: 0.9901\n",
            "Epoch 91/100\n",
            " - 14s - loss: 0.0036 - acc: 0.9525 - val_loss: 0.0460 - val_acc: 0.9884\n",
            "Epoch 92/100\n",
            " - 14s - loss: 0.0039 - acc: 0.9481 - val_loss: 0.0458 - val_acc: 0.9882\n",
            "Epoch 93/100\n",
            " - 13s - loss: 0.0036 - acc: 0.9506 - val_loss: 0.0411 - val_acc: 0.9888\n",
            "Epoch 94/100\n",
            " - 14s - loss: 0.0035 - acc: 0.9521 - val_loss: 0.0423 - val_acc: 0.9889\n",
            "Epoch 95/100\n",
            " - 15s - loss: 0.0037 - acc: 0.9519 - val_loss: 0.0381 - val_acc: 0.9900\n",
            "Epoch 96/100\n",
            " - 14s - loss: 0.0036 - acc: 0.9520 - val_loss: 0.0355 - val_acc: 0.9913\n",
            "Epoch 97/100\n",
            " - 14s - loss: 0.0033 - acc: 0.9555 - val_loss: 0.0398 - val_acc: 0.9908\n",
            "Epoch 98/100\n",
            " - 13s - loss: 0.0034 - acc: 0.9545 - val_loss: 0.0327 - val_acc: 0.9908\n",
            "Epoch 99/100\n",
            " - 13s - loss: 0.0033 - acc: 0.9550 - val_loss: 0.0401 - val_acc: 0.9888\n",
            "Epoch 100/100\n",
            " - 13s - loss: 0.0036 - acc: 0.9542 - val_loss: 0.0381 - val_acc: 0.9911\n"
          ],
          "name": "stdout"
        }
      ]
    },
    {
      "cell_type": "code",
      "metadata": {
        "colab_type": "code",
        "id": "rQYvzGC5cuDU",
        "colab": {
          "base_uri": "https://localhost:8080/",
          "height": 34
        },
        "outputId": "2ebd5391-e278-42b0-c309-fcdd2dc4b4ef"
      },
      "source": [
        "print(\"Best validation accuracy: {:0.3f}\"\n",
        "       .format(np.max(history.history['val_acc'])))"
      ],
      "execution_count": 16,
      "outputs": [
        {
          "output_type": "stream",
          "text": [
            "Best validation accuracy: 0.992\n"
          ],
          "name": "stdout"
        }
      ]
    },
    {
      "cell_type": "code",
      "metadata": {
        "colab_type": "code",
        "id": "iJeKTTOPq_Tl",
        "colab": {
          "base_uri": "https://localhost:8080/",
          "height": 283
        },
        "outputId": "ba73ec09-f973-458b-f489-c0ee093fa4b4"
      },
      "source": [
        "plt.plot(history.history['acc'])\n",
        "plt.plot(history.history['val_acc'])\n",
        "plt.ylabel('accuracy'); plt.xlabel('epochs')\n",
        "plt.legend(['train', 'test'], loc='lower right')\n",
        "plt.show()"
      ],
      "execution_count": 17,
      "outputs": [
        {
          "output_type": "display_data",
          "data": {
            "image/png": "[encoded data removed]",
            "text/plain": [
              "<Figure size 432x288 with 1 Axes>"
            ]
          },
          "metadata": {
            "tags": []
          }
        }
      ]
    }
  ]
}